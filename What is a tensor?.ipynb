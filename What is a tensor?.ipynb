{
 "cells": [
  {
   "cell_type": "markdown",
   "id": "7c1fa2fb",
   "metadata": {},
   "source": [
    "### Import the relevant libraries"
   ]
  },
  {
   "cell_type": "code",
   "execution_count": 1,
   "id": "970a94a8",
   "metadata": {},
   "outputs": [],
   "source": [
    "import numpy as np"
   ]
  },
  {
   "cell_type": "markdown",
   "id": "448e5985",
   "metadata": {},
   "source": [
    "### Creating a tensor"
   ]
  },
  {
   "cell_type": "code",
   "execution_count": 4,
   "id": "5d7152f0",
   "metadata": {},
   "outputs": [
    {
     "data": {
      "text/plain": [
       "array([[ 6,  3, 16],\n",
       "       [ 9, -4,  0]])"
      ]
     },
     "execution_count": 4,
     "metadata": {},
     "output_type": "execute_result"
    }
   ],
   "source": [
    "matrix_1 = np.array([[6,3,16] , [9,-4,0]])\n",
    "matrix_1"
   ]
  },
  {
   "cell_type": "code",
   "execution_count": 5,
   "id": "2482d9b2",
   "metadata": {},
   "outputs": [
    {
     "data": {
      "text/plain": [
       "array([[ 5, 12, -6],\n",
       "       [24,  8,  2]])"
      ]
     },
     "execution_count": 5,
     "metadata": {},
     "output_type": "execute_result"
    }
   ],
   "source": [
    "matrix_2 = np.array([[5,12,-6] , [24, 8, 2]])\n",
    "matrix_2"
   ]
  },
  {
   "cell_type": "code",
   "execution_count": 6,
   "id": "6efe5814",
   "metadata": {},
   "outputs": [
    {
     "data": {
      "text/plain": [
       "array([[[ 6,  3, 16],\n",
       "        [ 9, -4,  0]],\n",
       "\n",
       "       [[ 5, 12, -6],\n",
       "        [24,  8,  2]]])"
      ]
     },
     "execution_count": 6,
     "metadata": {},
     "output_type": "execute_result"
    }
   ],
   "source": [
    "tensor_1 = np.array([matrix_1, matrix_2])\n",
    "tensor_1"
   ]
  },
  {
   "cell_type": "markdown",
   "id": "7e0bd8f6",
   "metadata": {},
   "source": [
    "### Checking its shape"
   ]
  },
  {
   "cell_type": "code",
   "execution_count": 7,
   "id": "0e45293b",
   "metadata": {},
   "outputs": [
    {
     "data": {
      "text/plain": [
       "(2, 2, 3)"
      ]
     },
     "execution_count": 7,
     "metadata": {},
     "output_type": "execute_result"
    }
   ],
   "source": [
    "tensor_1.shape"
   ]
  },
  {
   "cell_type": "markdown",
   "id": "ece4c8b7",
   "metadata": {},
   "source": [
    "### Manually creating a tensor"
   ]
  },
  {
   "cell_type": "code",
   "execution_count": 10,
   "id": "fb49a6b2",
   "metadata": {},
   "outputs": [
    {
     "data": {
      "text/plain": [
       "array([[[ 6,  3, 16],\n",
       "        [ 9, -4,  0]],\n",
       "\n",
       "       [[ 5, 12, -6],\n",
       "        [24,  8,  2]]])"
      ]
     },
     "execution_count": 10,
     "metadata": {},
     "output_type": "execute_result"
    }
   ],
   "source": [
    "tensor_manual = np.array([[[6,3,16] , [9,-4,0]],[[5,12,-6] , [24, 8, 2]]])\n",
    "tensor_manual"
   ]
  },
  {
   "cell_type": "code",
   "execution_count": null,
   "id": "f86eccc4",
   "metadata": {},
   "outputs": [],
   "source": []
  }
 ],
 "metadata": {
  "kernelspec": {
   "display_name": "Python 3 (ipykernel)",
   "language": "python",
   "name": "python3"
  },
  "language_info": {
   "codemirror_mode": {
    "name": "ipython",
    "version": 3
   },
   "file_extension": ".py",
   "mimetype": "text/x-python",
   "name": "python",
   "nbconvert_exporter": "python",
   "pygments_lexer": "ipython3",
   "version": "3.9.12"
  }
 },
 "nbformat": 4,
 "nbformat_minor": 5
}
