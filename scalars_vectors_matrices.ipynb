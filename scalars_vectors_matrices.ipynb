{
 "cells": [
  {
   "cell_type": "markdown",
   "id": "fcd56330",
   "metadata": {},
   "source": [
    "## Import the relevant libraries"
   ]
  },
  {
   "cell_type": "code",
   "execution_count": 2,
   "id": "02c5809c",
   "metadata": {},
   "outputs": [],
   "source": [
    "import numpy as np\n",
    "import pandas as pd"
   ]
  },
  {
   "cell_type": "code",
   "execution_count": 3,
   "id": "ad0eb67c",
   "metadata": {},
   "outputs": [],
   "source": [
    "# The simplest most flexible way to work with matrices in Python\n",
    "# is by using arrays"
   ]
  },
  {
   "cell_type": "markdown",
   "id": "1167410a",
   "metadata": {},
   "source": [
    "### Scalars"
   ]
  },
  {
   "cell_type": "code",
   "execution_count": 29,
   "id": "5461bf71",
   "metadata": {},
   "outputs": [
    {
     "data": {
      "text/plain": [
       "6"
      ]
     },
     "execution_count": 29,
     "metadata": {},
     "output_type": "execute_result"
    }
   ],
   "source": [
    "scalar_ = 6\n",
    "scalar_"
   ]
  },
  {
   "cell_type": "markdown",
   "id": "d5c8c522",
   "metadata": {},
   "source": [
    "### Vectors"
   ]
  },
  {
   "cell_type": "code",
   "execution_count": 30,
   "id": "39026f0a",
   "metadata": {},
   "outputs": [
    {
     "data": {
      "text/plain": [
       "array([ 8,  2, 10])"
      ]
     },
     "execution_count": 30,
     "metadata": {},
     "output_type": "execute_result"
    }
   ],
   "source": [
    "vector_ = np.array([8,2,10])\n",
    "vector_\n",
    "\n",
    "# vector_ is a row vector"
   ]
  },
  {
   "cell_type": "markdown",
   "id": "31cd46bb",
   "metadata": {},
   "source": [
    "### Matrices"
   ]
  },
  {
   "cell_type": "code",
   "execution_count": 31,
   "id": "ab4e7ed2",
   "metadata": {},
   "outputs": [
    {
     "data": {
      "text/plain": [
       "array([[12,  6, -3],\n",
       "       [-1,  5,  0]])"
      ]
     },
     "execution_count": 31,
     "metadata": {},
     "output_type": "execute_result"
    }
   ],
   "source": [
    "matrix_ = np.array([[12, 6, -3] , [-1, 5, 0]])\n",
    "matrix_"
   ]
  },
  {
   "cell_type": "markdown",
   "id": "24c25f63",
   "metadata": {},
   "source": [
    "### Data types"
   ]
  },
  {
   "cell_type": "code",
   "execution_count": 32,
   "id": "78d5e17c",
   "metadata": {},
   "outputs": [
    {
     "data": {
      "text/plain": [
       "int"
      ]
     },
     "execution_count": 32,
     "metadata": {},
     "output_type": "execute_result"
    }
   ],
   "source": [
    "type(scalar_)"
   ]
  },
  {
   "cell_type": "code",
   "execution_count": 33,
   "id": "f92ca3ab",
   "metadata": {},
   "outputs": [
    {
     "data": {
      "text/plain": [
       "numpy.ndarray"
      ]
     },
     "execution_count": 33,
     "metadata": {},
     "output_type": "execute_result"
    }
   ],
   "source": [
    "type(vector_)"
   ]
  },
  {
   "cell_type": "code",
   "execution_count": 34,
   "id": "2634bc07",
   "metadata": {},
   "outputs": [
    {
     "data": {
      "text/plain": [
       "numpy.ndarray"
      ]
     },
     "execution_count": 34,
     "metadata": {},
     "output_type": "execute_result"
    }
   ],
   "source": [
    "type(matrix_)"
   ]
  },
  {
   "cell_type": "code",
   "execution_count": 35,
   "id": "568fadc7",
   "metadata": {},
   "outputs": [],
   "source": [
    "# ndarray = n-dimensional array\n",
    "# vector_ = 1-dimensional array\n",
    "# matrice_ = 2-dimensional array"
   ]
  },
  {
   "cell_type": "code",
   "execution_count": 36,
   "id": "d3411be6",
   "metadata": {},
   "outputs": [
    {
     "data": {
      "text/plain": [
       "array(5)"
      ]
     },
     "execution_count": 36,
     "metadata": {},
     "output_type": "execute_result"
    }
   ],
   "source": [
    "scalar_2 = np.array(5)\n",
    "scalar_2"
   ]
  },
  {
   "cell_type": "code",
   "execution_count": 37,
   "id": "c13b63d1",
   "metadata": {},
   "outputs": [
    {
     "data": {
      "text/plain": [
       "numpy.ndarray"
      ]
     },
     "execution_count": 37,
     "metadata": {},
     "output_type": "execute_result"
    }
   ],
   "source": [
    "type(scalar_2)"
   ]
  },
  {
   "cell_type": "markdown",
   "id": "5f574714",
   "metadata": {},
   "source": [
    "### Data shapes"
   ]
  },
  {
   "cell_type": "code",
   "execution_count": 38,
   "id": "46d25791",
   "metadata": {},
   "outputs": [
    {
     "data": {
      "text/plain": [
       "(2, 3)"
      ]
     },
     "execution_count": 38,
     "metadata": {},
     "output_type": "execute_result"
    }
   ],
   "source": [
    "matrix_.shape"
   ]
  },
  {
   "cell_type": "code",
   "execution_count": 39,
   "id": "5d28d65c",
   "metadata": {},
   "outputs": [
    {
     "data": {
      "text/plain": [
       "(3,)"
      ]
     },
     "execution_count": 39,
     "metadata": {},
     "output_type": "execute_result"
    }
   ],
   "source": [
    "vector_.shape"
   ]
  },
  {
   "cell_type": "code",
   "execution_count": 40,
   "id": "83e2da76",
   "metadata": {},
   "outputs": [
    {
     "data": {
      "text/plain": [
       "array([[ 8,  2, 10]])"
      ]
     },
     "execution_count": 40,
     "metadata": {},
     "output_type": "execute_result"
    }
   ],
   "source": [
    "# reshape gives an array a new shape, without changing its data\n",
    "\n",
    "vector_.reshape(1,3)"
   ]
  },
  {
   "cell_type": "code",
   "execution_count": 41,
   "id": "2f1695c6",
   "metadata": {},
   "outputs": [
    {
     "data": {
      "text/plain": [
       "array([[ 8],\n",
       "       [ 2],\n",
       "       [10]])"
      ]
     },
     "execution_count": 41,
     "metadata": {},
     "output_type": "execute_result"
    }
   ],
   "source": [
    "vector_.reshape(3,1)"
   ]
  },
  {
   "cell_type": "code",
   "execution_count": 42,
   "id": "d873c8a0",
   "metadata": {},
   "outputs": [
    {
     "data": {
      "text/plain": [
       "()"
      ]
     },
     "execution_count": 42,
     "metadata": {},
     "output_type": "execute_result"
    }
   ],
   "source": [
    "scalar_2.shape"
   ]
  },
  {
   "cell_type": "code",
   "execution_count": null,
   "id": "4143324b",
   "metadata": {},
   "outputs": [],
   "source": []
  }
 ],
 "metadata": {
  "kernelspec": {
   "display_name": "Python 3 (ipykernel)",
   "language": "python",
   "name": "python3"
  },
  "language_info": {
   "codemirror_mode": {
    "name": "ipython",
    "version": 3
   },
   "file_extension": ".py",
   "mimetype": "text/x-python",
   "name": "python",
   "nbconvert_exporter": "python",
   "pygments_lexer": "ipython3",
   "version": "3.9.12"
  }
 },
 "nbformat": 4,
 "nbformat_minor": 5
}
