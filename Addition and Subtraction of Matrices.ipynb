{
 "cells": [
  {
   "cell_type": "markdown",
   "id": "9a2b2eb9",
   "metadata": {},
   "source": [
    "### Import the relevant libraries"
   ]
  },
  {
   "cell_type": "code",
   "execution_count": 2,
   "id": "a6867c6d",
   "metadata": {},
   "outputs": [],
   "source": [
    "import numpy as np"
   ]
  },
  {
   "cell_type": "markdown",
   "id": "df070dc0",
   "metadata": {},
   "source": [
    "## Addition"
   ]
  },
  {
   "cell_type": "code",
   "execution_count": 3,
   "id": "a2da43e7",
   "metadata": {},
   "outputs": [],
   "source": [
    "# The two matrices must have the same dimensions"
   ]
  },
  {
   "cell_type": "code",
   "execution_count": 4,
   "id": "ac467977",
   "metadata": {},
   "outputs": [
    {
     "data": {
      "text/plain": [
       "array([[ 1,  3, -6],\n",
       "       [ 8,  2, 17]])"
      ]
     },
     "execution_count": 4,
     "metadata": {},
     "output_type": "execute_result"
    }
   ],
   "source": [
    "matrix_1 = np.array([[1,3,-6], [8,2,17]])\n",
    "matrix_1"
   ]
  },
  {
   "cell_type": "code",
   "execution_count": 6,
   "id": "c01ba728",
   "metadata": {},
   "outputs": [
    {
     "data": {
      "text/plain": [
       "array([[5, 2, 9],\n",
       "       [6, 7, 1]])"
      ]
     },
     "execution_count": 6,
     "metadata": {},
     "output_type": "execute_result"
    }
   ],
   "source": [
    "matrix_2 = np.array([[5,2,9] , [6,7,1]])\n",
    "matrix_2"
   ]
  },
  {
   "cell_type": "code",
   "execution_count": 7,
   "id": "35a3d3ab",
   "metadata": {},
   "outputs": [
    {
     "data": {
      "text/plain": [
       "array([[ 6,  5,  3],\n",
       "       [14,  9, 18]])"
      ]
     },
     "execution_count": 7,
     "metadata": {},
     "output_type": "execute_result"
    }
   ],
   "source": [
    "matrix_1 + matrix_2"
   ]
  },
  {
   "cell_type": "markdown",
   "id": "130d090a",
   "metadata": {},
   "source": [
    "## Subtraction"
   ]
  },
  {
   "cell_type": "code",
   "execution_count": 8,
   "id": "a2b8e35b",
   "metadata": {},
   "outputs": [],
   "source": [
    "# The two matrices must have the same dimensions"
   ]
  },
  {
   "cell_type": "code",
   "execution_count": 9,
   "id": "023236ab",
   "metadata": {},
   "outputs": [
    {
     "data": {
      "text/plain": [
       "array([[5, 3],\n",
       "       [7, 2]])"
      ]
     },
     "execution_count": 9,
     "metadata": {},
     "output_type": "execute_result"
    }
   ],
   "source": [
    "matrix_3 = np.array([[5,3] , [7,2]])\n",
    "matrix_3"
   ]
  },
  {
   "cell_type": "code",
   "execution_count": 10,
   "id": "a711bb0c",
   "metadata": {},
   "outputs": [
    {
     "data": {
      "text/plain": [
       "array([[ 1,  1],\n",
       "       [10,  0]])"
      ]
     },
     "execution_count": 10,
     "metadata": {},
     "output_type": "execute_result"
    }
   ],
   "source": [
    "matrix_4 = np.array([[1,1] , [10,0]])\n",
    "matrix_4"
   ]
  },
  {
   "cell_type": "code",
   "execution_count": 11,
   "id": "2f72177e",
   "metadata": {},
   "outputs": [
    {
     "data": {
      "text/plain": [
       "array([[ 4,  2],\n",
       "       [-3,  2]])"
      ]
     },
     "execution_count": 11,
     "metadata": {},
     "output_type": "execute_result"
    }
   ],
   "source": [
    "matrix_3 - matrix_4"
   ]
  },
  {
   "cell_type": "markdown",
   "id": "aa84139f",
   "metadata": {},
   "source": [
    "## Adding vectors together"
   ]
  },
  {
   "cell_type": "code",
   "execution_count": 17,
   "id": "c0374a39",
   "metadata": {},
   "outputs": [],
   "source": [
    "# the length of the two vectors must be the same"
   ]
  },
  {
   "cell_type": "code",
   "execution_count": 14,
   "id": "f7dcfd1d",
   "metadata": {},
   "outputs": [
    {
     "data": {
      "text/plain": [
       "array([4, 8, 4, 1])"
      ]
     },
     "execution_count": 14,
     "metadata": {},
     "output_type": "execute_result"
    }
   ],
   "source": [
    "vector_1 = np.array([4,8,4,1])\n",
    "vector_1"
   ]
  },
  {
   "cell_type": "code",
   "execution_count": 15,
   "id": "9e985e89",
   "metadata": {},
   "outputs": [
    {
     "data": {
      "text/plain": [
       "array([1, 6, 3, 8])"
      ]
     },
     "execution_count": 15,
     "metadata": {},
     "output_type": "execute_result"
    }
   ],
   "source": [
    "vector_2 = np.array([1,6,3,8])\n",
    "vector_2"
   ]
  },
  {
   "cell_type": "code",
   "execution_count": 16,
   "id": "12304fd5",
   "metadata": {},
   "outputs": [
    {
     "data": {
      "text/plain": [
       "array([ 5, 14,  7,  9])"
      ]
     },
     "execution_count": 16,
     "metadata": {},
     "output_type": "execute_result"
    }
   ],
   "source": [
    "vector_1 + vector_2"
   ]
  },
  {
   "cell_type": "markdown",
   "id": "ae45765a",
   "metadata": {},
   "source": [
    "## Substraction of vectors"
   ]
  },
  {
   "cell_type": "code",
   "execution_count": 19,
   "id": "bf3291e4",
   "metadata": {},
   "outputs": [
    {
     "data": {
      "text/plain": [
       "array([ 3,  2,  1, -7])"
      ]
     },
     "execution_count": 19,
     "metadata": {},
     "output_type": "execute_result"
    }
   ],
   "source": [
    "vector_1 - vector_2"
   ]
  }
 ],
 "metadata": {
  "kernelspec": {
   "display_name": "Python 3 (ipykernel)",
   "language": "python",
   "name": "python3"
  },
  "language_info": {
   "codemirror_mode": {
    "name": "ipython",
    "version": 3
   },
   "file_extension": ".py",
   "mimetype": "text/x-python",
   "name": "python",
   "nbconvert_exporter": "python",
   "pygments_lexer": "ipython3",
   "version": "3.9.12"
  }
 },
 "nbformat": 4,
 "nbformat_minor": 5
}
